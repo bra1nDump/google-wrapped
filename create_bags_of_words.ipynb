{
 "cells": [
  {
   "cell_type": "markdown",
   "metadata": {},
   "source": [
    "This not buck reads an english vocabulary and splits it into bags that we are interested in on the client.\n",
    "Bags we want to start with: political, medical, sexual, food\n",
    "\n",
    "Similar to the previous approach, we will give classifier a couple of examples and run a separate class afire to create each bag. The cut off value will be determined after testing."
   ]
  },
  {
   "cell_type": "code",
   "execution_count": null,
   "metadata": {},
   "outputs": [],
   "source": [
    "# Makes spark stop logging so much\n",
    "from helpers import *\n",
    "!export SPARK_CONF_DIR = \"$HOME/spark_configuration\"\n",
    "\n",
    "\n",
    "spark = spark_init()\n"
   ]
  },
  {
   "cell_type": "code",
   "execution_count": null,
   "metadata": {},
   "outputs": [],
   "source": [
    "# Read data\n",
    "history = (\n",
    "    spark.read.text('data/english_vocabulary_mieliestronk.txt')\n",
    "    .toDF(\"text\")\n",
    ")\n",
    "\n",
    "\n",
    "features = history_features(spark, history, 1000)\n",
    "\n",
    "for category, searches in features.items():\n",
    "    print(category)\n",
    "    for search in searches:\n",
    "        print(search.text)\n"
   ]
  }
 ],
 "metadata": {
  "kernelspec": {
   "display_name": "Python 3.10.7 64-bit",
   "language": "python",
   "name": "python3"
  },
  "language_info": {
   "codemirror_mode": {
    "name": "ipython",
    "version": 3
   },
   "file_extension": ".py",
   "mimetype": "text/x-python",
   "name": "python",
   "nbconvert_exporter": "python",
   "pygments_lexer": "ipython3",
   "version": "3.10.8"
  },
  "orig_nbformat": 4,
  "vscode": {
   "interpreter": {
    "hash": "949777d72b0d2535278d3dc13498b2535136f6dfe0678499012e853ee9abcab1"
   }
  }
 },
 "nbformat": 4,
 "nbformat_minor": 2
}
