{
 "cells": [
  {
   "cell_type": "code",
   "execution_count": null,
   "metadata": {},
   "outputs": [],
   "source": [
    "# Makes spark stop logging so much\n",
    "from helpers import *\n",
    "!export SPARK_CONF_DIR = \"$HOME/spark_configuration\"\n",
    "\n",
    "\n",
    "spark = spark_init()\n"
   ]
  },
  {
   "cell_type": "code",
   "execution_count": null,
   "metadata": {},
   "outputs": [],
   "source": [
    "# Read data\n",
    "history = (\n",
    "    spark.read.csv('sample_history.csv', sep='|', header=True)\n",
    "    .toDF(\"kind\", \"text\", \"url\")\n",
    ")\n",
    "\n",
    "search_history=prepare_data(history)\n",
    "\n"
   ]
  },
  {
   "cell_type": "code",
   "execution_count": null,
   "metadata": {},
   "outputs": [],
   "source": [
    "\n",
    "pipeline = classifier_pipeline()\n"
   ]
  },
  {
   "cell_type": "code",
   "execution_count": null,
   "metadata": {},
   "outputs": [],
   "source": [
    "\n",
    "# Work fun classifier\n",
    "work_fun_samples = [\n",
    "    # work\n",
    "    ['how to make a python3 spark dataframe?', 'work'],\n",
    "    ['swift objective-c inter operation', 'work'],\n",
    "    ['bootstrapping deployment pipeline', 'work'],\n",
    "    ['aws route 53 domain configuration', 'work'],\n",
    "    # fun\n",
    "    ['where to go out and eat with friends?', 'fun'],\n",
    "    ['Best things to bring to a beach party', 'fun'],\n",
    "    ['Were to buy a sex doll?', 'fun'],\n",
    "    ['Is not yawning in response a sign of a maniac', 'fun'],\n",
    "]\n",
    "work_fun_frame = spark.createDataFrame(\n",
    "    work_fun_samples).toDF(\"text\", \"label\")\n",
    "work_fun_classifier = pipeline.fit(work_fun_frame)\n"
   ]
  },
  {
   "cell_type": "code",
   "execution_count": null,
   "metadata": {},
   "outputs": [],
   "source": [
    "# Running work fun classifier\n",
    "work_fun_labeled_pretty = run_classifier(\n",
    "    work_fun_classifier, search_history, 'work')\n",
    "\n",
    "nonwork_searches = work_fun_labeled_pretty.filter(\n",
    "    work_fun_labeled_pretty.predicted_label != 'work')\n",
    "print(f'Non work related searches: {nonwork_searches.count()}')\n",
    "\n",
    "work_fun_labeled_pretty_sampled = work_fun_labeled_pretty.sample(\n",
    "    0.1).orderBy(work_fun_labeled_pretty.work_score)\n",
    "work_fun_labeled_pretty_sampled.show(1000, False)\n"
   ]
  }
 ],
 "metadata": {
  "kernelspec": {
   "display_name": "Python 3.10.7 64-bit",
   "language": "python",
   "name": "python3"
  },
  "language_info": {
   "codemirror_mode": {
    "name": "ipython",
    "version": 3
   },
   "file_extension": ".py",
   "mimetype": "text/x-python",
   "name": "python",
   "nbconvert_exporter": "python",
   "pygments_lexer": "ipython3",
   "version": "3.10.8"
  },
  "orig_nbformat": 4,
  "vscode": {
   "interpreter": {
    "hash": "949777d72b0d2535278d3dc13498b2535136f6dfe0678499012e853ee9abcab1"
   }
  }
 },
 "nbformat": 4,
 "nbformat_minor": 2
}
