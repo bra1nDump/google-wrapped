{
 "cells": [
  {
   "cell_type": "code",
   "execution_count": null,
   "metadata": {},
   "outputs": [],
   "source": [
    "import sparknlp\n",
    "import findspark\n",
    "findspark.init()\n",
    "\n",
    "spark = sparknlp.start()\n",
    "\n",
    "history = spark.read.csv('sample_history.csv', sep='|', header=True)\n",
    "\n",
    "print(history)\n",
    "print(history.schema)\n",
    "\n",
    "history.show(3)\n"
   ]
  },
  {
   "cell_type": "code",
   "execution_count": null,
   "metadata": {},
   "outputs": [],
   "source": [
    "from datetime import datetime, date\n",
    "from pyspark.sql import *\n",
    "\n",
    "import pyspark.sql.functions as F\n",
    "from pyspark.ml import *\n",
    "from sparknlp.annotator import *\n",
    "from sparknlp.common import *\n",
    "from sparknlp.pretrained import *\n",
    "from sparknlp.base import *\n",
    "\n",
    "history = spark.read.csv('sample_history.csv', sep='|',\n",
    "                         header=True).toDF(\"kind\", \"text\", \"url\")\n",
    "\n",
    "document = DocumentAssembler()\\\n",
    "    .setInputCol(\"text\")\\\n",
    "    .setOutputCol(\"document\")\n",
    "\n",
    "# we can also use sentence detector here\n",
    "# if we want to train on and get predictions for each sentence\n",
    "# downloading pretrained embeddings\n",
    "use = UniversalSentenceEncoder.pretrained()\\\n",
    "    .setInputCols([\"document\"])\\\n",
    "    .setOutputCol(\"sentence_embeddings\")\n",
    "# the classes/labels/categories are in category column\n",
    "classsifierdl = ClassifierDLApproach()\\\n",
    "    .setInputCols([\"sentence_embeddings\"])\\\n",
    "    .setOutputCol(\"class\")\\\n",
    "    .setLabelColumn(\"category\")\\\n",
    "    .setMaxEpochs(50)\\\n",
    "    .setEnableOutputLogs(True)\n",
    "use_clf_pipeline = Pipeline(\n",
    "    stages=[\n",
    "        document,\n",
    "        use,\n",
    "        classsifierdl\n",
    "    ])\n",
    "\n",
    "training_data = spark.createDataFrame([\n",
    "    ['How to make a python3 spark dataframe', 'work'],\n",
    "    ['where to go out and eat with friends?', 'fun'],\n",
    "]).toDF(\"text\", \"category\")\n",
    "\n",
    "use_pipelineModel = use_clf_pipeline.fit(training_data)\n"
   ]
  },
  {
   "cell_type": "code",
   "execution_count": null,
   "metadata": {},
   "outputs": [],
   "source": [
    "unknown2 = use_pipelineModel.transform(history)\n",
    "unknown2.show(30)\n",
    "data = unknown2.collect()\n",
    "\n",
    "\n",
    "def sortkey(row):\n",
    "    try:\n",
    "        return float(row[5][0][4][\"fun\"])\n",
    "    except IndexError:\n",
    "        return 0\n",
    "\n",
    "\n",
    "data.sort(key=sortkey)\n",
    "\n",
    "for x in data[-20:]:\n",
    "    print(x[1])\n"
   ]
  }
 ],
 "metadata": {
  "kernelspec": {
   "display_name": "Python 3.10.7 64-bit",
   "language": "python",
   "name": "python3"
  },
  "language_info": {
   "codemirror_mode": {
    "name": "ipython",
    "version": 3
   },
   "file_extension": ".py",
   "mimetype": "text/x-python",
   "name": "python",
   "nbconvert_exporter": "python",
   "pygments_lexer": "ipython3",
   "version": "3.10.7"
  },
  "orig_nbformat": 4,
  "vscode": {
   "interpreter": {
    "hash": "949777d72b0d2535278d3dc13498b2535136f6dfe0678499012e853ee9abcab1"
   }
  }
 },
 "nbformat": 4,
 "nbformat_minor": 2
}
